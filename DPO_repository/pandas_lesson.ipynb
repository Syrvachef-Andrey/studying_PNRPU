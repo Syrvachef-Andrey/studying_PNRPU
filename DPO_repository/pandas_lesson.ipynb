{
 "cells": [
  {
   "cell_type": "markdown",
   "metadata": {},
   "source": [
    "1 задача"
   ]
  },
  {
   "cell_type": "code",
   "execution_count": 161,
   "metadata": {},
   "outputs": [
    {
     "data": {
      "text/html": [
       "<div>\n",
       "<style scoped>\n",
       "    .dataframe tbody tr th:only-of-type {\n",
       "        vertical-align: middle;\n",
       "    }\n",
       "\n",
       "    .dataframe tbody tr th {\n",
       "        vertical-align: top;\n",
       "    }\n",
       "\n",
       "    .dataframe thead th {\n",
       "        text-align: right;\n",
       "    }\n",
       "</style>\n",
       "<table border=\"1\" class=\"dataframe\">\n",
       "  <thead>\n",
       "    <tr style=\"text-align: right;\">\n",
       "      <th></th>\n",
       "      <th>0</th>\n",
       "    </tr>\n",
       "  </thead>\n",
       "  <tbody>\n",
       "    <tr>\n",
       "      <th>0</th>\n",
       "      <td>0</td>\n",
       "    </tr>\n",
       "    <tr>\n",
       "      <th>1</th>\n",
       "      <td>1</td>\n",
       "    </tr>\n",
       "    <tr>\n",
       "      <th>2</th>\n",
       "      <td>2</td>\n",
       "    </tr>\n",
       "    <tr>\n",
       "      <th>3</th>\n",
       "      <td>3</td>\n",
       "    </tr>\n",
       "    <tr>\n",
       "      <th>4</th>\n",
       "      <td>4</td>\n",
       "    </tr>\n",
       "    <tr>\n",
       "      <th>5</th>\n",
       "      <td>5</td>\n",
       "    </tr>\n",
       "    <tr>\n",
       "      <th>6</th>\n",
       "      <td>6</td>\n",
       "    </tr>\n",
       "    <tr>\n",
       "      <th>7</th>\n",
       "      <td>7</td>\n",
       "    </tr>\n",
       "    <tr>\n",
       "      <th>8</th>\n",
       "      <td>8</td>\n",
       "    </tr>\n",
       "    <tr>\n",
       "      <th>9</th>\n",
       "      <td>9</td>\n",
       "    </tr>\n",
       "  </tbody>\n",
       "</table>\n",
       "</div>"
      ],
      "text/plain": [
       "   0\n",
       "0  0\n",
       "1  1\n",
       "2  2\n",
       "3  3\n",
       "4  4\n",
       "5  5\n",
       "6  6\n",
       "7  7\n",
       "8  8\n",
       "9  9"
      ]
     },
     "execution_count": 161,
     "metadata": {},
     "output_type": "execute_result"
    }
   ],
   "source": [
    "import pandas as pd\n",
    "import numpy as np\n",
    "\n",
    "my_list = [i for i in range(10)]\n",
    "my_np_list = np.array([i for i in range(20)])\n",
    "my_set = [{\"1\": \"1\", \"2\": \"2\", \"3\": \"3\", \"4\": \"5\"}]\n",
    "\n",
    "pd.DataFrame(my_np_list)\n",
    "pd.DataFrame(my_set)\n",
    "pd.DataFrame(my_list)"
   ]
  },
  {
   "cell_type": "markdown",
   "metadata": {},
   "source": [
    "2 задача"
   ]
  },
  {
   "cell_type": "code",
   "execution_count": 162,
   "metadata": {},
   "outputs": [
    {
     "data": {
      "text/html": [
       "<div>\n",
       "<style scoped>\n",
       "    .dataframe tbody tr th:only-of-type {\n",
       "        vertical-align: middle;\n",
       "    }\n",
       "\n",
       "    .dataframe tbody tr th {\n",
       "        vertical-align: top;\n",
       "    }\n",
       "\n",
       "    .dataframe thead th {\n",
       "        text-align: right;\n",
       "    }\n",
       "</style>\n",
       "<table border=\"1\" class=\"dataframe\">\n",
       "  <thead>\n",
       "    <tr style=\"text-align: right;\">\n",
       "      <th></th>\n",
       "      <th>a</th>\n",
       "      <th>b</th>\n",
       "      <th>c</th>\n",
       "      <th>e</th>\n",
       "      <th>d</th>\n",
       "      <th>f</th>\n",
       "      <th>g</th>\n",
       "      <th>h</th>\n",
       "      <th>i</th>\n",
       "      <th>j</th>\n",
       "      <th>...</th>\n",
       "      <th>q</th>\n",
       "      <th>r</th>\n",
       "      <th>s</th>\n",
       "      <th>t</th>\n",
       "      <th>u</th>\n",
       "      <th>v</th>\n",
       "      <th>w</th>\n",
       "      <th>x</th>\n",
       "      <th>y</th>\n",
       "      <th>z</th>\n",
       "    </tr>\n",
       "  </thead>\n",
       "  <tbody>\n",
       "    <tr>\n",
       "      <th>0</th>\n",
       "      <td>0</td>\n",
       "      <td>1</td>\n",
       "      <td>2</td>\n",
       "      <td>3</td>\n",
       "      <td>4</td>\n",
       "      <td>5</td>\n",
       "      <td>6</td>\n",
       "      <td>7</td>\n",
       "      <td>8</td>\n",
       "      <td>9</td>\n",
       "      <td>...</td>\n",
       "      <td>16</td>\n",
       "      <td>17</td>\n",
       "      <td>18</td>\n",
       "      <td>19</td>\n",
       "      <td>20</td>\n",
       "      <td>21</td>\n",
       "      <td>22</td>\n",
       "      <td>23</td>\n",
       "      <td>24</td>\n",
       "      <td>25</td>\n",
       "    </tr>\n",
       "  </tbody>\n",
       "</table>\n",
       "<p>1 rows × 26 columns</p>\n",
       "</div>"
      ],
      "text/plain": [
       "   a  b  c  e  d  f  g  h  i  j  ...   q   r   s   t   u   v   w   x   y   z\n",
       "0  0  1  2  3  4  5  6  7  8  9  ...  16  17  18  19  20  21  22  23  24  25\n",
       "\n",
       "[1 rows x 26 columns]"
      ]
     },
     "execution_count": 162,
     "metadata": {},
     "output_type": "execute_result"
    }
   ],
   "source": [
    "import numpy as np\n",
    "import pandas as pd\n",
    "mylist = list('abcedfghijklmnopqrstuvwxyz')\n",
    "myarr = np.arange(26)\n",
    "mydict = dict(zip(mylist, myarr))\n",
    "ser = pd.Series(mydict)\n",
    "ser = ser.to_frame().transpose()\n",
    "ser"
   ]
  },
  {
   "cell_type": "markdown",
   "metadata": {},
   "source": [
    "3 задача"
   ]
  },
  {
   "cell_type": "code",
   "execution_count": 163,
   "metadata": {},
   "outputs": [
    {
     "data": {
      "text/html": [
       "<div>\n",
       "<style scoped>\n",
       "    .dataframe tbody tr th:only-of-type {\n",
       "        vertical-align: middle;\n",
       "    }\n",
       "\n",
       "    .dataframe tbody tr th {\n",
       "        vertical-align: top;\n",
       "    }\n",
       "\n",
       "    .dataframe thead th {\n",
       "        text-align: right;\n",
       "    }\n",
       "</style>\n",
       "<table border=\"1\" class=\"dataframe\">\n",
       "  <thead>\n",
       "    <tr style=\"text-align: right;\">\n",
       "      <th></th>\n",
       "      <th>0</th>\n",
       "      <th>1</th>\n",
       "    </tr>\n",
       "  </thead>\n",
       "  <tbody>\n",
       "    <tr>\n",
       "      <th>0</th>\n",
       "      <td>a</td>\n",
       "      <td>0</td>\n",
       "    </tr>\n",
       "    <tr>\n",
       "      <th>1</th>\n",
       "      <td>b</td>\n",
       "      <td>1</td>\n",
       "    </tr>\n",
       "    <tr>\n",
       "      <th>2</th>\n",
       "      <td>c</td>\n",
       "      <td>2</td>\n",
       "    </tr>\n",
       "    <tr>\n",
       "      <th>3</th>\n",
       "      <td>e</td>\n",
       "      <td>3</td>\n",
       "    </tr>\n",
       "    <tr>\n",
       "      <th>4</th>\n",
       "      <td>d</td>\n",
       "      <td>4</td>\n",
       "    </tr>\n",
       "    <tr>\n",
       "      <th>5</th>\n",
       "      <td>f</td>\n",
       "      <td>5</td>\n",
       "    </tr>\n",
       "    <tr>\n",
       "      <th>6</th>\n",
       "      <td>g</td>\n",
       "      <td>6</td>\n",
       "    </tr>\n",
       "    <tr>\n",
       "      <th>7</th>\n",
       "      <td>h</td>\n",
       "      <td>7</td>\n",
       "    </tr>\n",
       "    <tr>\n",
       "      <th>8</th>\n",
       "      <td>i</td>\n",
       "      <td>8</td>\n",
       "    </tr>\n",
       "    <tr>\n",
       "      <th>9</th>\n",
       "      <td>j</td>\n",
       "      <td>9</td>\n",
       "    </tr>\n",
       "    <tr>\n",
       "      <th>10</th>\n",
       "      <td>k</td>\n",
       "      <td>10</td>\n",
       "    </tr>\n",
       "    <tr>\n",
       "      <th>11</th>\n",
       "      <td>l</td>\n",
       "      <td>11</td>\n",
       "    </tr>\n",
       "    <tr>\n",
       "      <th>12</th>\n",
       "      <td>m</td>\n",
       "      <td>12</td>\n",
       "    </tr>\n",
       "    <tr>\n",
       "      <th>13</th>\n",
       "      <td>n</td>\n",
       "      <td>13</td>\n",
       "    </tr>\n",
       "    <tr>\n",
       "      <th>14</th>\n",
       "      <td>o</td>\n",
       "      <td>14</td>\n",
       "    </tr>\n",
       "    <tr>\n",
       "      <th>15</th>\n",
       "      <td>p</td>\n",
       "      <td>15</td>\n",
       "    </tr>\n",
       "    <tr>\n",
       "      <th>16</th>\n",
       "      <td>q</td>\n",
       "      <td>16</td>\n",
       "    </tr>\n",
       "    <tr>\n",
       "      <th>17</th>\n",
       "      <td>r</td>\n",
       "      <td>17</td>\n",
       "    </tr>\n",
       "    <tr>\n",
       "      <th>18</th>\n",
       "      <td>s</td>\n",
       "      <td>18</td>\n",
       "    </tr>\n",
       "    <tr>\n",
       "      <th>19</th>\n",
       "      <td>t</td>\n",
       "      <td>19</td>\n",
       "    </tr>\n",
       "    <tr>\n",
       "      <th>20</th>\n",
       "      <td>u</td>\n",
       "      <td>20</td>\n",
       "    </tr>\n",
       "    <tr>\n",
       "      <th>21</th>\n",
       "      <td>v</td>\n",
       "      <td>21</td>\n",
       "    </tr>\n",
       "    <tr>\n",
       "      <th>22</th>\n",
       "      <td>w</td>\n",
       "      <td>22</td>\n",
       "    </tr>\n",
       "    <tr>\n",
       "      <th>23</th>\n",
       "      <td>x</td>\n",
       "      <td>23</td>\n",
       "    </tr>\n",
       "    <tr>\n",
       "      <th>24</th>\n",
       "      <td>y</td>\n",
       "      <td>24</td>\n",
       "    </tr>\n",
       "    <tr>\n",
       "      <th>25</th>\n",
       "      <td>z</td>\n",
       "      <td>25</td>\n",
       "    </tr>\n",
       "  </tbody>\n",
       "</table>\n",
       "</div>"
      ],
      "text/plain": [
       "    0   1\n",
       "0   a   0\n",
       "1   b   1\n",
       "2   c   2\n",
       "3   e   3\n",
       "4   d   4\n",
       "5   f   5\n",
       "6   g   6\n",
       "7   h   7\n",
       "8   i   8\n",
       "9   j   9\n",
       "10  k  10\n",
       "11  l  11\n",
       "12  m  12\n",
       "13  n  13\n",
       "14  o  14\n",
       "15  p  15\n",
       "16  q  16\n",
       "17  r  17\n",
       "18  s  18\n",
       "19  t  19\n",
       "20  u  20\n",
       "21  v  21\n",
       "22  w  22\n",
       "23  x  23\n",
       "24  y  24\n",
       "25  z  25"
      ]
     },
     "execution_count": 163,
     "metadata": {},
     "output_type": "execute_result"
    }
   ],
   "source": [
    "import numpy as np\n",
    "mylist = list('abcedfghijklmnopqrstuvwxyz')\n",
    "myarr = np.arange(26)\n",
    "mydict = dict(zip(mylist, myarr))\n",
    "ser1 = pd.Series(mylist)\n",
    "ser2 = pd.Series(myarr)\n",
    "df = pd.concat([ser1, ser2], axis=1)\n",
    "df"
   ]
  },
  {
   "cell_type": "markdown",
   "metadata": {},
   "source": [
    "4 задача"
   ]
  },
  {
   "cell_type": "code",
   "execution_count": 164,
   "metadata": {},
   "outputs": [
    {
     "data": {
      "text/plain": [
       "0     a\n",
       "1     b\n",
       "2     c\n",
       "3     e\n",
       "4     d\n",
       "5     f\n",
       "6     g\n",
       "7     h\n",
       "8     i\n",
       "9     j\n",
       "10    k\n",
       "11    l\n",
       "12    m\n",
       "13    n\n",
       "14    o\n",
       "15    p\n",
       "16    q\n",
       "17    r\n",
       "18    s\n",
       "19    t\n",
       "20    u\n",
       "21    v\n",
       "22    w\n",
       "23    x\n",
       "24    y\n",
       "25    z\n",
       "Name: latin_latters, dtype: object"
      ]
     },
     "execution_count": 164,
     "metadata": {},
     "output_type": "execute_result"
    }
   ],
   "source": [
    "import pandas as pd\n",
    "ser = pd.Series(list('abcedfghijklmnopqrstuvwxyz'), name=\"latin_latters\")\n",
    "ser"
   ]
  },
  {
   "cell_type": "markdown",
   "metadata": {},
   "source": [
    "5 Задача"
   ]
  },
  {
   "cell_type": "code",
   "execution_count": 165,
   "metadata": {},
   "outputs": [
    {
     "name": "stdout",
     "output_type": "stream",
     "text": [
      "0    1\n",
      "1    2\n",
      "2    3\n",
      "dtype: int64\n"
     ]
    }
   ],
   "source": [
    "import pandas as pd\n",
    "\n",
    "# Создаем Series\n",
    "ser1 = pd.Series([1, 2, 3, 4, 5])\n",
    "ser2 = pd.Series([4, 5, 6, 7, 8])\n",
    "\n",
    "indices_to_drop = ser1[ser1.isin(ser2)].index\n",
    "\n",
    "ser1.drop(indices_to_drop, inplace=True)\n",
    "\n",
    "print(ser1)\n"
   ]
  },
  {
   "cell_type": "markdown",
   "metadata": {},
   "source": [
    "6 задача"
   ]
  },
  {
   "cell_type": "code",
   "execution_count": 166,
   "metadata": {},
   "outputs": [
    {
     "data": {
      "text/plain": [
       "0    1\n",
       "1    2\n",
       "2    3\n",
       "2    6\n",
       "3    7\n",
       "4    8\n",
       "dtype: int64"
      ]
     },
     "execution_count": 166,
     "metadata": {},
     "output_type": "execute_result"
    }
   ],
   "source": [
    "import pandas as pd\n",
    "\n",
    "ser1 = pd.Series([1, 2, 3, 4, 5])\n",
    "ser2 = pd.Series([4, 5, 6, 7, 8])\n",
    "\n",
    "indexes_1 = ser1[ser1.isin(ser2)].index\n",
    "indexes_2 = ser2[ser2.isin(ser1)].index\n",
    "\n",
    "ser1.drop(indexes_1, inplace=True)\n",
    "ser2.drop(indexes_2, inplace=True)\n",
    "\n",
    "df = pd.concat([ser1, ser2])\n",
    "\n",
    "df"
   ]
  },
  {
   "cell_type": "markdown",
   "metadata": {},
   "source": [
    "7 Задача"
   ]
  },
  {
   "cell_type": "code",
   "execution_count": 167,
   "metadata": {},
   "outputs": [
    {
     "name": "stdout",
     "output_type": "stream",
     "text": [
      "1.6925020562063402\n",
      "18.9818757190231\n",
      "7.902003242952118\n",
      "13.30827145213577\n",
      "10.504361521512418\n",
      "0      9.795578\n",
      "1      7.701000\n",
      "2     18.413984\n",
      "3      9.345013\n",
      "4      1.692502\n",
      "5      5.581509\n",
      "6      7.934688\n",
      "7      7.902003\n",
      "8     14.561945\n",
      "9     12.865645\n",
      "10     8.117939\n",
      "11    12.067318\n",
      "12    10.504362\n",
      "13    13.070199\n",
      "14    14.834743\n",
      "15     6.937535\n",
      "16    16.246486\n",
      "17     4.836975\n",
      "18    13.590049\n",
      "19    18.981876\n",
      "20    13.308271\n",
      "21     7.917245\n",
      "22    11.194164\n",
      "23    13.279255\n",
      "24     3.341942\n",
      "dtype: float64\n"
     ]
    }
   ],
   "source": [
    "import pandas as pd\n",
    "ser = pd.Series(np.random.normal(10, 5, 25))\n",
    "print(min(ser))\n",
    "print(max(ser))\n",
    "print(ser.quantile(0.25))\n",
    "print(ser.quantile(0.75))\n",
    "print(ser.quantile(0.5))\n",
    "print(ser)"
   ]
  },
  {
   "cell_type": "markdown",
   "metadata": {},
   "source": [
    "8 Задача"
   ]
  },
  {
   "cell_type": "code",
   "execution_count": 168,
   "metadata": {},
   "outputs": [
    {
     "data": {
      "text/plain": [
       "c    6\n",
       "a    6\n",
       "h    6\n",
       "f    4\n",
       "g    3\n",
       "b    3\n",
       "e    2\n",
       "Name: count, dtype: int64"
      ]
     },
     "execution_count": 168,
     "metadata": {},
     "output_type": "execute_result"
    }
   ],
   "source": [
    "import pandas as pd\n",
    "\n",
    "ser = pd.Series(np.take(list('abcdefgh'), np.random.randint(8, size=30)))\n",
    "\n",
    "freq = ser.value_counts()\n",
    "\n",
    "freq"
   ]
  },
  {
   "cell_type": "markdown",
   "metadata": {},
   "source": [
    "9 Задача"
   ]
  },
  {
   "cell_type": "code",
   "execution_count": 169,
   "metadata": {},
   "outputs": [
    {
     "name": "stdout",
     "output_type": "stream",
     "text": [
      "0          2\n",
      "1          2\n",
      "2          2\n",
      "3          2\n",
      "4          2\n",
      "5          1\n",
      "6          1\n",
      "7          2\n",
      "8          2\n",
      "9     Прочее\n",
      "10    Прочее\n",
      "11         1\n",
      "dtype: object\n"
     ]
    }
   ],
   "source": [
    "import pandas as pd\n",
    "import numpy as np\n",
    "\n",
    "np.random.RandomState(100)\n",
    "ser = pd.Series(np.random.randint(1, 5, [12]))\n",
    "\n",
    "top_2_values = ser.value_counts().nlargest(2).index\n",
    "\n",
    "# Заменяем все элементы, кроме двух наиболее часто встречающихся, на \"Прочее\"\n",
    "ser_modified = ser.where(ser.isin(top_2_values), 'Прочее')\n",
    "\n",
    "print(ser_modified)"
   ]
  },
  {
   "cell_type": "markdown",
   "metadata": {},
   "source": [
    "10 Задача"
   ]
  },
  {
   "cell_type": "code",
   "execution_count": 170,
   "metadata": {},
   "outputs": [
    {
     "name": "stdout",
     "output_type": "stream",
     "text": [
      "0      6th\n",
      "1     10th\n",
      "2      9th\n",
      "3      4th\n",
      "4      7th\n",
      "5      7th\n",
      "6      3th\n",
      "7      3th\n",
      "8      9th\n",
      "9     10th\n",
      "10     8th\n",
      "11     1th\n",
      "12     6th\n",
      "13     4th\n",
      "14     2th\n",
      "15     5th\n",
      "16     1th\n",
      "17     5th\n",
      "18     8th\n",
      "19     2th\n",
      "dtype: category\n",
      "Categories (10, object): ['1th' < '2th' < '3th' < '4th' ... '7th' < '8th' < '9th' < '10th']\n"
     ]
    }
   ],
   "source": [
    "import pandas as pd\n",
    "\n",
    "ser = pd.Series(np.random.random(20))\n",
    "\n",
    "labels = [f'{i}th' for i in range(1, 11)]\n",
    "\n",
    "deciles = pd.qcut(ser, q=10, labels=labels)\n",
    "\n",
    "# Преобразуем результат в категориальный тип данных\n",
    "deciles = deciles.astype('category')\n",
    "\n",
    "# Выводим первые 5 элементов\n",
    "print(deciles)"
   ]
  },
  {
   "cell_type": "markdown",
   "metadata": {},
   "source": [
    "11 Задача"
   ]
  },
  {
   "cell_type": "code",
   "execution_count": 171,
   "metadata": {},
   "outputs": [
    {
     "data": {
      "text/html": [
       "<div>\n",
       "<style scoped>\n",
       "    .dataframe tbody tr th:only-of-type {\n",
       "        vertical-align: middle;\n",
       "    }\n",
       "\n",
       "    .dataframe tbody tr th {\n",
       "        vertical-align: top;\n",
       "    }\n",
       "\n",
       "    .dataframe thead th {\n",
       "        text-align: right;\n",
       "    }\n",
       "</style>\n",
       "<table border=\"1\" class=\"dataframe\">\n",
       "  <thead>\n",
       "    <tr style=\"text-align: right;\">\n",
       "      <th></th>\n",
       "      <th>0</th>\n",
       "      <th>1</th>\n",
       "      <th>2</th>\n",
       "      <th>3</th>\n",
       "      <th>4</th>\n",
       "    </tr>\n",
       "  </thead>\n",
       "  <tbody>\n",
       "    <tr>\n",
       "      <th>0</th>\n",
       "      <td>6</td>\n",
       "      <td>8</td>\n",
       "      <td>4</td>\n",
       "      <td>4</td>\n",
       "      <td>3</td>\n",
       "    </tr>\n",
       "    <tr>\n",
       "      <th>1</th>\n",
       "      <td>4</td>\n",
       "      <td>4</td>\n",
       "      <td>3</td>\n",
       "      <td>1</td>\n",
       "      <td>3</td>\n",
       "    </tr>\n",
       "    <tr>\n",
       "      <th>2</th>\n",
       "      <td>5</td>\n",
       "      <td>7</td>\n",
       "      <td>7</td>\n",
       "      <td>3</td>\n",
       "      <td>5</td>\n",
       "    </tr>\n",
       "    <tr>\n",
       "      <th>3</th>\n",
       "      <td>6</td>\n",
       "      <td>2</td>\n",
       "      <td>5</td>\n",
       "      <td>5</td>\n",
       "      <td>3</td>\n",
       "    </tr>\n",
       "    <tr>\n",
       "      <th>4</th>\n",
       "      <td>1</td>\n",
       "      <td>8</td>\n",
       "      <td>7</td>\n",
       "      <td>1</td>\n",
       "      <td>2</td>\n",
       "    </tr>\n",
       "    <tr>\n",
       "      <th>5</th>\n",
       "      <td>6</td>\n",
       "      <td>1</td>\n",
       "      <td>6</td>\n",
       "      <td>2</td>\n",
       "      <td>9</td>\n",
       "    </tr>\n",
       "    <tr>\n",
       "      <th>6</th>\n",
       "      <td>7</td>\n",
       "      <td>3</td>\n",
       "      <td>3</td>\n",
       "      <td>9</td>\n",
       "      <td>8</td>\n",
       "    </tr>\n",
       "  </tbody>\n",
       "</table>\n",
       "</div>"
      ],
      "text/plain": [
       "   0  1  2  3  4\n",
       "0  6  8  4  4  3\n",
       "1  4  4  3  1  3\n",
       "2  5  7  7  3  5\n",
       "3  6  2  5  5  3\n",
       "4  1  8  7  1  2\n",
       "5  6  1  6  2  9\n",
       "6  7  3  3  9  8"
      ]
     },
     "execution_count": 171,
     "metadata": {},
     "output_type": "execute_result"
    }
   ],
   "source": [
    "import pandas as pd\n",
    "import numpy as np\n",
    "\n",
    "ser = pd.Series(np.random.randint(1, 10, 35))\n",
    "\n",
    "reshaped_array = ser.values.reshape(7, 5)\n",
    "\n",
    "df = pd.DataFrame(reshaped_array)\n",
    "\n",
    "df"
   ]
  },
  {
   "cell_type": "markdown",
   "metadata": {},
   "source": [
    "12 Задача"
   ]
  },
  {
   "cell_type": "code",
   "execution_count": 172,
   "metadata": {},
   "outputs": [
    {
     "name": "stdout",
     "output_type": "stream",
     "text": [
      "0    8\n",
      "1    3\n",
      "2    2\n",
      "3    9\n",
      "4    8\n",
      "5    5\n",
      "6    4\n",
      "dtype: int32\n"
     ]
    },
    {
     "data": {
      "text/plain": [
       "1    3\n",
       "3    9\n",
       "dtype: int32"
      ]
     },
     "execution_count": 172,
     "metadata": {},
     "output_type": "execute_result"
    }
   ],
   "source": [
    "import pandas as pd\n",
    "import numpy as np\n",
    "\n",
    "ser = pd.Series(np.random.randint(1, 10, 7))\n",
    "\n",
    "print(ser)\n",
    "indexes = []\n",
    "\n",
    "for i in range(len(ser)):\n",
    "    if ser[i] % 3 != 0:\n",
    "        indexes.append(i)\n",
    "\n",
    "ser.drop(indexes, inplace=True)\n",
    "\n",
    "ser"
   ]
  },
  {
   "cell_type": "markdown",
   "metadata": {},
   "source": [
    "13 задача"
   ]
  },
  {
   "cell_type": "code",
   "execution_count": 173,
   "metadata": {},
   "outputs": [
    {
     "data": {
      "text/plain": [
       "0     a\n",
       "4     e\n",
       "8     i\n",
       "14    o\n",
       "20    u\n",
       "dtype: object"
      ]
     },
     "execution_count": 173,
     "metadata": {},
     "output_type": "execute_result"
    }
   ],
   "source": [
    "import pandas as pd\n",
    "import numpy as np\n",
    "\n",
    "ser = pd.Series(list('abcdefghijklmnopqrstuvwxyz'))\n",
    "pos = [0, 4, 8, 14, 20]\n",
    "\n",
    "extracted_elem = ser.iloc[pos]\n",
    "\n",
    "extracted_elem"
   ]
  },
  {
   "cell_type": "markdown",
   "metadata": {},
   "source": [
    "14 Задача"
   ]
  },
  {
   "cell_type": "code",
   "execution_count": 174,
   "metadata": {},
   "outputs": [
    {
     "data": {
      "text/html": [
       "<div>\n",
       "<style scoped>\n",
       "    .dataframe tbody tr th:only-of-type {\n",
       "        vertical-align: middle;\n",
       "    }\n",
       "\n",
       "    .dataframe tbody tr th {\n",
       "        vertical-align: top;\n",
       "    }\n",
       "\n",
       "    .dataframe thead th {\n",
       "        text-align: right;\n",
       "    }\n",
       "</style>\n",
       "<table border=\"1\" class=\"dataframe\">\n",
       "  <thead>\n",
       "    <tr style=\"text-align: right;\">\n",
       "      <th></th>\n",
       "      <th>0</th>\n",
       "      <th>1</th>\n",
       "    </tr>\n",
       "  </thead>\n",
       "  <tbody>\n",
       "    <tr>\n",
       "      <th>0</th>\n",
       "      <td>0</td>\n",
       "      <td>a</td>\n",
       "    </tr>\n",
       "    <tr>\n",
       "      <th>1</th>\n",
       "      <td>1</td>\n",
       "      <td>b</td>\n",
       "    </tr>\n",
       "    <tr>\n",
       "      <th>2</th>\n",
       "      <td>2</td>\n",
       "      <td>c</td>\n",
       "    </tr>\n",
       "    <tr>\n",
       "      <th>3</th>\n",
       "      <td>3</td>\n",
       "      <td>d</td>\n",
       "    </tr>\n",
       "    <tr>\n",
       "      <th>4</th>\n",
       "      <td>4</td>\n",
       "      <td>e</td>\n",
       "    </tr>\n",
       "  </tbody>\n",
       "</table>\n",
       "</div>"
      ],
      "text/plain": [
       "   0  1\n",
       "0  0  a\n",
       "1  1  b\n",
       "2  2  c\n",
       "3  3  d\n",
       "4  4  e"
      ]
     },
     "execution_count": 174,
     "metadata": {},
     "output_type": "execute_result"
    }
   ],
   "source": [
    "import pandas as pd\n",
    "import numpy as np\n",
    "\n",
    "ser1 = pd.Series(range(5))\n",
    "ser2 = pd.Series(list('abcde'))\n",
    "\n",
    "df = pd.concat([ser1, ser2], axis=1)\n",
    "\n",
    "df"
   ]
  },
  {
   "cell_type": "markdown",
   "metadata": {},
   "source": [
    "15 Задача"
   ]
  },
  {
   "cell_type": "code",
   "execution_count": 175,
   "metadata": {},
   "outputs": [
    {
     "name": "stdout",
     "output_type": "stream",
     "text": [
      "Позиции элементов ser2 в ser1:\n",
      "[np.int64(5), np.int64(4), np.int64(0), np.int64(8)]\n"
     ]
    }
   ],
   "source": [
    "import pandas as pd\n",
    "import numpy as np\n",
    "\n",
    "ser1 = pd.Series([10, 9, 6, 5, 3, 1, 12, 8, 13])\n",
    "ser2 = pd.Series([1, 3, 10, 13])\n",
    "\n",
    "positions = [ser1[ser1 == value].index[0] for value in ser2]\n",
    "\n",
    "print(\"Позиции элементов ser2 в ser1:\")\n",
    "print(positions)"
   ]
  },
  {
   "cell_type": "markdown",
   "metadata": {},
   "source": [
    "16 задача"
   ]
  },
  {
   "cell_type": "code",
   "execution_count": 176,
   "metadata": {},
   "outputs": [
    {
     "name": "stdout",
     "output_type": "stream",
     "text": [
      "Среднеквадратическая ошибка: 0.3050181048964494\n"
     ]
    }
   ],
   "source": [
    "import pandas as pd\n",
    "import numpy as np\n",
    "\n",
    "truth = pd.Series(range(10))\n",
    "pred = pd.Series(range(10)) + np.random.random(10)\n",
    "\n",
    "diff = truth - pred\n",
    "\n",
    "squared_diff = diff ** 2\n",
    "\n",
    "mse = squared_diff.mean()\n",
    "\n",
    "print(f\"Среднеквадратическая ошибка: {mse}\")"
   ]
  },
  {
   "cell_type": "markdown",
   "metadata": {},
   "source": [
    "17 Задача"
   ]
  },
  {
   "cell_type": "code",
   "execution_count": 177,
   "metadata": {},
   "outputs": [
    {
     "data": {
      "text/plain": [
       "0     How\n",
       "1      To\n",
       "2    Kick\n",
       "3    Ass?\n",
       "dtype: object"
      ]
     },
     "execution_count": 177,
     "metadata": {},
     "output_type": "execute_result"
    }
   ],
   "source": [
    "import pandas as pd\n",
    "\n",
    "ser = pd.Series(['how', 'to', 'kick', 'ass?'])\n",
    "\n",
    "ser_capt = ser.str.capitalize()\n",
    "\n",
    "ser_capt"
   ]
  },
  {
   "cell_type": "markdown",
   "metadata": {},
   "source": [
    "18 Задача"
   ]
  },
  {
   "cell_type": "code",
   "execution_count": null,
   "metadata": {},
   "outputs": [],
   "source": [
    "import pandas as pd\n",
    "\n",
    "ser = pd.Series(['how', 'to', 'kick', 'ass?'])\n",
    "\n",
    "ser_capt = ser.str.len()\n",
    "\n",
    "ser_capt"
   ]
  },
  {
   "cell_type": "markdown",
   "metadata": {},
   "source": [
    "19 Задача"
   ]
  },
  {
   "cell_type": "code",
   "execution_count": null,
   "metadata": {},
   "outputs": [],
   "source": [
    "import pandas as pd\n",
    "\n",
    "ser = pd.Series([1, 3, 6, 10, 15, 21, 27, 35])\n",
    "\n",
    "first_diff = ser.diff()\n",
    "\n",
    "second_diff = first_diff.diff()\n",
    "\n",
    "print(first_diff)\n",
    "print(second_diff)"
   ]
  },
  {
   "cell_type": "markdown",
   "metadata": {},
   "source": [
    "20 Задача "
   ]
  },
  {
   "cell_type": "code",
   "execution_count": null,
   "metadata": {},
   "outputs": [],
   "source": [
    "import pandas as pd\n",
    "\n",
    "# Создаем Series с строковым представлением дат\n",
    "ser = pd.Series(['01 Jan 2010', '02-02-2011', '20120303', '2013/04/04', '2014-05-05', '2015-06-06T12:20'])\n",
    "\n",
    "# Преобразуем строки в datetime64\n",
    "ser_datetime = pd.to_datetime(ser, format='mixed')\n",
    "\n",
    "print(ser_datetime)"
   ]
  },
  {
   "cell_type": "markdown",
   "metadata": {},
   "source": [
    "21 Задача"
   ]
  },
  {
   "cell_type": "code",
   "execution_count": null,
   "metadata": {},
   "outputs": [],
   "source": [
    "import pandas as pd\n",
    "\n",
    "ser = pd.Series(['01 Jan 2010', '02-02-2011', '20120303', '2013/04/04', '2014-05-05', '2015-06-06T12:20'])\n",
    "\n",
    "ser_datetime = pd.to_datetime(ser, format='mixed')\n",
    "\n",
    "ser_date = ser_datetime.dt.day\n",
    "ser_week = ser_datetime.dt.isocalendar().week\n",
    "day_of_year = ser_datetime.dt.dayofyear\n",
    "day_of_week = ser_datetime.dt.day_name()\n",
    "\n",
    "print(ser_date)\n",
    "print(ser_week)\n",
    "print(day_of_week)\n",
    "print(day_of_year)"
   ]
  },
  {
   "cell_type": "markdown",
   "metadata": {},
   "source": [
    "Задача 22"
   ]
  },
  {
   "cell_type": "code",
   "execution_count": null,
   "metadata": {},
   "outputs": [],
   "source": [
    "import pandas as pd\n",
    "\n",
    "ser = pd.Series(['Jan 2010', 'Feb 2011', 'Mar 2012'])\n",
    "\n",
    "new_ser = pd.to_datetime(ser.str.replace(r'(\\w{3} \\d{4})', r'04 \\1', regex=True), format=\"mixed\")\n",
    "\n",
    "new_ser"
   ]
  },
  {
   "cell_type": "markdown",
   "metadata": {},
   "source": [
    "Задача 23"
   ]
  },
  {
   "cell_type": "code",
   "execution_count": null,
   "metadata": {},
   "outputs": [],
   "source": [
    "import pandas as pd\n",
    "\n",
    "ser = pd.Series(['Apple', 'Orange', 'Plan', 'Python', 'Money'])\n",
    "\n",
    "def has_at_least_two_vowels(word):\n",
    "    vowels = set(\"aeiouAEIOU\")\n",
    "    return sum(1 for char in word if char in vowels) >= 2\n",
    "\n",
    "result = ser[ser.apply(has_at_least_two_vowels)]\n",
    "\n",
    "print(result)"
   ]
  },
  {
   "cell_type": "markdown",
   "metadata": {},
   "source": [
    "Задача 24"
   ]
  },
  {
   "cell_type": "code",
   "execution_count": null,
   "metadata": {},
   "outputs": [],
   "source": [
    "import pandas as pd\n",
    "\n",
    "emails = pd.Series(['buying books at amazon.com', 'rameses@egypt.com', 'matt@t.co', 'narendra@modi.com'])\n",
    "\n",
    "pattern = r'[A-Za-z0-9_%+-]+@[A-Za-z0-9.-]+\\.[A-Za-z]{2,4}'\n",
    "\n",
    "valid_emails = emails[emails.str.contains(pattern, na=False, regex=True)]\n",
    "\n",
    "print(valid_emails)"
   ]
  },
  {
   "cell_type": "markdown",
   "metadata": {},
   "source": [
    "Задача 25"
   ]
  },
  {
   "cell_type": "code",
   "execution_count": null,
   "metadata": {},
   "outputs": [],
   "source": [
    "import pandas as pd\n",
    "import numpy as np  \n",
    "\n",
    "fruit = pd.Series(np.random.choice(['apple', 'banana', 'carrot'], 10))\n",
    "weights = pd.Series(np.linspace(1, 10, 10))\n",
    "print(weights.tolist())\n",
    "print(fruit.tolist())\n",
    "\n",
    "df = pd.DataFrame({\"Fruit\": fruit, \"Weight\": weights})\n",
    "\n",
    "meam_weights = df.groupby('Fruit')['Weight'].mean()\n",
    "\n",
    "meam_weights"
   ]
  },
  {
   "cell_type": "markdown",
   "metadata": {},
   "source": [
    "Задача 26"
   ]
  },
  {
   "cell_type": "code",
   "execution_count": null,
   "metadata": {},
   "outputs": [],
   "source": [
    "import pandas as pd\n",
    "import numpy as np\n",
    "\n",
    "p = pd.Series([1, 2, 3, 4, 5, 6, 7, 8, 9, 10])\n",
    "q = pd.Series([10, 9, 8, 7, 6, 5, 4, 3, 2, 1])\n",
    "\n",
    "distance = np.sqrt(np.sum((p - q) ** 2))\n",
    "\n",
    "distance = round(distance, 3)\n",
    "\n",
    "print(distance)"
   ]
  },
  {
   "cell_type": "markdown",
   "metadata": {},
   "source": [
    "Задача 27"
   ]
  },
  {
   "cell_type": "code",
   "execution_count": null,
   "metadata": {},
   "outputs": [],
   "source": [
    "import pandas as pd\n",
    "import numpy as np\n",
    "\n",
    "ser = pd.Series([2, 10, 3, 4, 9, 10, 2, 7, 3])\n",
    "\n",
    "peaks = np.where((ser.shift(1) < ser) & (ser.shift(-1) < ser))[0]\n",
    "\n",
    "print(peaks)"
   ]
  },
  {
   "cell_type": "markdown",
   "metadata": {},
   "source": [
    "Задача 28"
   ]
  },
  {
   "cell_type": "code",
   "execution_count": null,
   "metadata": {},
   "outputs": [],
   "source": [
    "import pandas as pd\n",
    "\n",
    "my_str = 'dbc deb abed gade'\n",
    "\n",
    "ser = pd.Series(list(my_str))\n",
    "\n",
    "char_counts = ser.value_counts()\n",
    "\n",
    "least_frequent_char = char_counts[char_counts.index != ' '].idxmin()\n",
    "\n",
    "result = ''.join(ser.replace(' ', least_frequent_char))\n",
    "\n",
    "print(result)"
   ]
  },
  {
   "cell_type": "markdown",
   "metadata": {},
   "source": [
    "Задача 29"
   ]
  },
  {
   "cell_type": "code",
   "execution_count": null,
   "metadata": {},
   "outputs": [],
   "source": [
    "import pandas as pd\n",
    "import random \n",
    "\n",
    "date = ['2000-01-01', '2000-01-08', '2000-01-15', '2000-01-22', '2000-01-29', '2000-02-05', '2000-02-12', '2000-02-19', '2000-02-26', '2000-03-04']\n",
    "rand = [random.randint(1, 10) for i in range(10)]\n",
    "\n",
    "df = pd.DataFrame({'Datetime': date, \"Random\": rand})\n",
    "\n",
    "df"
   ]
  },
  {
   "cell_type": "markdown",
   "metadata": {},
   "source": [
    "Задача 30"
   ]
  },
  {
   "cell_type": "code",
   "execution_count": null,
   "metadata": {},
   "outputs": [],
   "source": [
    "import pandas as pd\n",
    "import numpy as np\n",
    "\n",
    "ser = pd.Series([1, 10, 3, np.nan], index=pd.to_datetime(['2000-01-01', '2000-01-03', '2000-01-06', '2000-01-08']))\n",
    "\n",
    "full_date_range = pd.date_range(start=ser.index.min(), end=ser.index.max(), freq='D')\n",
    "\n",
    "ser_reindexed = ser.reindex(full_date_range)\n",
    "\n",
    "ser_filled = ser_reindexed.ffill()\n",
    "\n",
    "print(ser_filled)"
   ]
  },
  {
   "cell_type": "markdown",
   "metadata": {},
   "source": [
    "Задача 31"
   ]
  },
  {
   "cell_type": "code",
   "execution_count": null,
   "metadata": {},
   "outputs": [],
   "source": [
    "import pandas as pd\n",
    "import numpy as np\n",
    "\n",
    "ser = pd.Series(np.arange(20) + np.random.normal(1, 10, 20))\n",
    "\n",
    "autocorrelations = [ser.autocorr(lag) for lag in range(10)]\n",
    "\n",
    "autocorrelations_without_lag0 = autocorrelations[1:]\n",
    "\n",
    "max_corr_lag = np.argmax(autocorrelations_without_lag0) + 1 \n",
    "\n",
    "print(autocorrelations)\n",
    "print(f\"Lag having highest correlation: {max_corr_lag}\")"
   ]
  },
  {
   "cell_type": "markdown",
   "metadata": {},
   "source": [
    "Задача 32"
   ]
  },
  {
   "cell_type": "code",
   "execution_count": null,
   "metadata": {},
   "outputs": [],
   "source": [
    "import pandas as pd\n",
    "\n",
    "df = pd.read_csv('BostonHousing.csv', skiprows=lambda x: x % 50 != 0)\n",
    "\n",
    "df"
   ]
  },
  {
   "cell_type": "markdown",
   "metadata": {},
   "source": [
    "Задача 33"
   ]
  },
  {
   "cell_type": "code",
   "execution_count": null,
   "metadata": {},
   "outputs": [],
   "source": [
    "import pandas as pd\n",
    "\n",
    "df = pd.read_csv('BostonHousing.csv')\n",
    "\n",
    "df['MEDV_Category'] = df['medv'].apply(lambda x: 'Low' if x < 25 else 'High')\n",
    "\n",
    "print(df[['medv', 'MEDV_Category']].head())"
   ]
  },
  {
   "cell_type": "markdown",
   "metadata": {},
   "source": [
    "Задача 34"
   ]
  },
  {
   "cell_type": "code",
   "execution_count": null,
   "metadata": {},
   "outputs": [],
   "source": [
    "import pandas as pd\n",
    "import numpy as np\n",
    "\n",
    "L = pd.Series(range(15))\n",
    "\n",
    "window_size = 4\n",
    "\n",
    "intervals = np.lib.stride_tricks.sliding_window_view(L, window_size)\n",
    "\n",
    "df = pd.DataFrame(intervals)\n",
    "\n",
    "print(df)"
   ]
  },
  {
   "cell_type": "markdown",
   "metadata": {},
   "source": [
    "Задача 35"
   ]
  },
  {
   "cell_type": "code",
   "execution_count": null,
   "metadata": {},
   "outputs": [],
   "source": [
    "import pandas as pd\n",
    "\n",
    "df = pd.read_csv('BostonHousing.csv')\n",
    "\n",
    "selected_columns = df[['crim', 'medv']]\n",
    "\n",
    "print(selected_columns.head())"
   ]
  },
  {
   "cell_type": "markdown",
   "metadata": {},
   "source": [
    "Задача 36"
   ]
  },
  {
   "cell_type": "code",
   "execution_count": null,
   "metadata": {},
   "outputs": [],
   "source": [
    "import pandas as pd\n",
    "import numpy as np\n",
    "\n",
    "df = pd.read_csv('Cars93_miss.csv')\n",
    "\n",
    "num_rows, num_cols = df.shape\n",
    "print(num_rows)\n",
    "print(num_cols)\n",
    "\n",
    "print(df.dtypes)\n",
    "\n",
    "print(df.describe(include='all'))\n",
    "\n",
    "numpy_array = df.to_numpy()\n",
    "print(numpy_array)\n",
    "\n",
    "list_representation = df.values.tolist()\n",
    "print(list_representation)"
   ]
  },
  {
   "cell_type": "markdown",
   "metadata": {},
   "source": [
    "Задача 37"
   ]
  },
  {
   "cell_type": "code",
   "execution_count": null,
   "metadata": {},
   "outputs": [],
   "source": [
    "import pandas as pd\n",
    "\n",
    "# Чтение данных из CSV-файла\n",
    "url = \"https://raw.githubusercontent.com/selva86/datasets/master/Cars93_miss.csv\"\n",
    "df = pd.read_csv(url)\n",
    "\n",
    "max_price_row = df.loc[df['Price'].idxmax()]\n",
    "\n",
    "row_index = df['Price'].idxmax()\n",
    "column_name = 'Price'\n",
    "\n",
    "print(f\"Производитель: {max_price_row['Manufacturer']}\")\n",
    "print(f\"Модель: {max_price_row['Model']}\")\n",
    "print(f\"Тип: {max_price_row['Type']}\")\n",
    "print(f\"Максимальная цена: {max_price_row['Price']}\")\n",
    "print(f\"Номер строки: {row_index}\")\n",
    "print(f\"Номер столбца: {column_name}\")"
   ]
  },
  {
   "cell_type": "markdown",
   "metadata": {},
   "source": [
    "Задача 38"
   ]
  },
  {
   "cell_type": "code",
   "execution_count": null,
   "metadata": {},
   "outputs": [],
   "source": [
    "import pandas as pd\n",
    "\n",
    "url = \"https://raw.githubusercontent.com/selva86/datasets/master/Cars93_miss.csv\"\n",
    "df = pd.read_csv(url)\n",
    "\n",
    "df.rename(columns={'Type': 'CarType'}, inplace=True)\n",
    "\n",
    "df.columns = df.columns.str.replace('.', '_')\n",
    "\n",
    "print(df.columns)"
   ]
  },
  {
   "cell_type": "markdown",
   "metadata": {},
   "source": [
    "Задача 39"
   ]
  },
  {
   "cell_type": "code",
   "execution_count": null,
   "metadata": {},
   "outputs": [],
   "source": [
    "import pandas as pd\n",
    "\n",
    "url = \"https://raw.githubusercontent.com/selva86/datasets/master/Cars93_miss.csv\"\n",
    "df = pd.read_csv(url)\n",
    "\n",
    "missing_values = df.isnull().sum()\n",
    "\n",
    "print(\"Количество отсутствующих значений в каждом столбце:\")\n",
    "print(missing_values)\n",
    "\n",
    "has_missing_values = df.isnull().values.any()\n",
    "print(f\"\\nЕсть ли отсутствующие значения в DataFrame: {has_missing_values}\")"
   ]
  },
  {
   "cell_type": "markdown",
   "metadata": {},
   "source": [
    "Задача 40"
   ]
  },
  {
   "cell_type": "code",
   "execution_count": null,
   "metadata": {},
   "outputs": [],
   "source": [
    "import pandas as pd\n",
    "\n",
    "url = \"https://raw.githubusercontent.com/selva86/datasets/master/Cars93_miss.csv\"\n",
    "df = pd.read_csv(url)\n",
    "\n",
    "missing_values = df.isnull().sum()\n",
    "\n",
    "print(\"Количество пропущенных значений в каждом столбце:\")\n",
    "print(missing_values)\n",
    "\n",
    "max_missing_column = missing_values.idxmax()\n",
    "max_missing_count = missing_values.max()\n",
    "\n",
    "print(f\"\\nСтолбец с наибольшим числом пропущенных значений: {max_missing_column}\")\n",
    "print(f\"Количество пропущенных значений: {max_missing_count}\")"
   ]
  },
  {
   "cell_type": "markdown",
   "metadata": {},
   "source": [
    "Задача 41"
   ]
  },
  {
   "cell_type": "code",
   "execution_count": null,
   "metadata": {},
   "outputs": [],
   "source": [
    "import pandas as pd\n",
    "\n",
    "df = pd.read_csv('https://raw.githubusercontent.com/selva86/datasets/master/Cars93_miss.csv')\n",
    "\n",
    "mean_min_price = df['Min.Price'].mean()\n",
    "mean_max_price = df['Max.Price'].mean()\n",
    "\n",
    "df['Min.Price'].fillna(mean_min_price, inplace=True)\n",
    "df['Max.Price'].fillna(mean_max_price, inplace=True)\n",
    "\n",
    "print(df)"
   ]
  },
  {
   "cell_type": "markdown",
   "metadata": {},
   "source": [
    "Задача 42"
   ]
  },
  {
   "cell_type": "code",
   "execution_count": null,
   "metadata": {},
   "outputs": [],
   "source": [
    "import pandas as pd\n",
    "\n",
    "df = pd.read_csv('https://raw.githubusercontent.com/selva86/datasets/master/Cars93_miss.csv')\n",
    "\n",
    "def replace_missing(column):\n",
    "    if column.name == 'Min.Price':\n",
    "        return column.fillna(column.mean())\n",
    "    elif column.name == 'Max.Price':\n",
    "        return column.fillna(column.median())\n",
    "    return column\n",
    "\n",
    "df = df.apply(replace_missing, axis=0)\n",
    "\n",
    "print(df)"
   ]
  },
  {
   "cell_type": "markdown",
   "metadata": {},
   "source": [
    "Задача 43"
   ]
  },
  {
   "cell_type": "code",
   "execution_count": null,
   "metadata": {},
   "outputs": [],
   "source": [
    "import pandas as pd\n",
    "import numpy as np\n",
    "\n",
    "df = pd.DataFrame(np.arange(20).reshape(-1, 5), columns=list('abcde'))\n",
    "\n",
    "first_column_as_df = df.loc[:, ['a']]\n",
    "\n",
    "print(first_column_as_df)"
   ]
  },
  {
   "cell_type": "markdown",
   "metadata": {},
   "source": [
    "Задача 44"
   ]
  },
  {
   "cell_type": "code",
   "execution_count": null,
   "metadata": {},
   "outputs": [],
   "source": [
    "import pandas as pd\n",
    "import numpy as np\n",
    "\n",
    "df = pd.DataFrame(np.arange(20).reshape(-1, 5), columns=list('abcde'))\n",
    "\n",
    "df[['a', 'c']] = df[['c', 'a']]\n",
    "print(\"После обмена столбцов 'a' и 'c':\")\n",
    "print(df)\n",
    "\n",
    "def swap_columns(df, col1, col2):\n",
    "    df[[col1, col2]] = df[[col2, col1]]\n",
    "    return df\n",
    "\n",
    "df = swap_columns(df, 'a', 'c')\n",
    "print(\"\\nПосле повторного обмена столбцов 'a' и 'c' с использованием функции:\")\n",
    "print(df)\n",
    "\n",
    "df = df.reindex(columns=sorted(df.columns, reverse=True))\n",
    "print(\"\\nПосле сортировки столбцов в обратном алфавитном порядке:\")\n",
    "print(df)"
   ]
  },
  {
   "cell_type": "markdown",
   "metadata": {},
   "source": [
    "Задача 45"
   ]
  },
  {
   "cell_type": "code",
   "execution_count": null,
   "metadata": {},
   "outputs": [],
   "source": [
    "import pandas as pd\n",
    "\n",
    "df = pd.read_csv('https://raw.githubusercontent.com/selva86/datasets/master/Cars93_miss.csv')\n",
    "\n",
    "pd.set_option('display.max_rows', 10)\n",
    "pd.set_option('display.max_columns', 10)\n",
    "\n",
    "print(df)"
   ]
  },
  {
   "cell_type": "markdown",
   "metadata": {},
   "source": [
    "Задача 46"
   ]
  },
  {
   "cell_type": "code",
   "execution_count": null,
   "metadata": {},
   "outputs": [],
   "source": [
    "import pandas as pd\n",
    "import numpy as np\n",
    "\n",
    "df = pd.DataFrame(np.random.random(4) ** 10, columns=['random'])\n",
    "\n",
    "pd.set_option('display.float_format', '{:.4f}'.format)\n",
    "\n",
    "print(df)"
   ]
  },
  {
   "cell_type": "markdown",
   "metadata": {},
   "source": [
    "Задача 47"
   ]
  },
  {
   "cell_type": "code",
   "execution_count": null,
   "metadata": {},
   "outputs": [],
   "source": [
    "import pandas as pd\n",
    "import numpy as np\n",
    "\n",
    "df = pd.DataFrame(np.random.random(4), columns=['random'])\n",
    "\n",
    "df['random'] = df['random'].apply(lambda x: f'{x * 100:.2f}%')\n",
    "\n",
    "print(df)"
   ]
  },
  {
   "cell_type": "markdown",
   "metadata": {},
   "source": [
    "Задача 48"
   ]
  },
  {
   "cell_type": "code",
   "execution_count": null,
   "metadata": {},
   "outputs": [],
   "source": [
    "import pandas as pd\n",
    "\n",
    "df = pd.read_csv('https://raw.githubusercontent.com/selva86/datasets/master/Cars93_miss.csv')\n",
    "\n",
    "filtered_df = df.iloc[::20, :][['Manufacturer', 'Model', 'Type']]\n",
    "\n",
    "print(filtered_df)"
   ]
  },
  {
   "cell_type": "markdown",
   "metadata": {},
   "source": [
    "Задача 49"
   ]
  },
  {
   "cell_type": "code",
   "execution_count": null,
   "metadata": {},
   "outputs": [],
   "source": [
    "import pandas as pd\n",
    "\n",
    "df = pd.read_csv('https://raw.githubusercontent.com/selva86/datasets/master/Cars93_miss.csv', usecols=[0, 1, 2, 3, 5])\n",
    "\n",
    "df[['Manufacturer', 'Model', 'Type']] = df[['Manufacturer', 'Model', 'Type']].fillna('missing')\n",
    "\n",
    "df['index'] = df['Manufacturer'] + '_' + df['Model'] + '_' + df['Type']\n",
    "df.set_index('index', inplace=True)\n",
    "\n",
    "is_primary_key = df.index.is_unique\n",
    "\n",
    "print(df)\n",
    "print(f\"Индекс является первичным ключом: {is_primary_key}\")"
   ]
  },
  {
   "cell_type": "markdown",
   "metadata": {},
   "source": [
    "Задача 50"
   ]
  },
  {
   "cell_type": "code",
   "execution_count": null,
   "metadata": {},
   "outputs": [],
   "source": [
    "import pandas as pd\n",
    "import numpy as np\n",
    "\n",
    "df = pd.DataFrame(np.random.randint(1, 30, 30).reshape(10, -1), columns=list('abc'))\n",
    "\n",
    "fifth_largest_value = df['a'].nlargest(5).iloc[-1]\n",
    "\n",
    "position = df[df['a'] == fifth_largest_value].index[0]\n",
    "\n",
    "print(f\"Позиция строки с 5-м наибольшим значением в столбце 'a': {position}\")"
   ]
  },
  {
   "cell_type": "markdown",
   "metadata": {},
   "source": [
    "Задача 51"
   ]
  },
  {
   "cell_type": "code",
   "execution_count": null,
   "metadata": {},
   "outputs": [],
   "source": [
    "import pandas as pd\n",
    "import numpy as np\n",
    "\n",
    "ser = pd.Series(np.random.randint(1, 100, 15))\n",
    "\n",
    "mean_value = ser.mean()\n",
    "\n",
    "filtered_values = ser[ser > mean_value]\n",
    "\n",
    "second_largest = filtered_values.nlargest(2).iloc[-1]\n",
    "\n",
    "position = ser[ser == second_largest].index[0]\n",
    "\n",
    "print(f\"Позиция 2-го наибольшего значения, превышающего среднее: {position}\")"
   ]
  },
  {
   "cell_type": "markdown",
   "metadata": {},
   "source": [
    "Задача 52"
   ]
  },
  {
   "cell_type": "code",
   "execution_count": null,
   "metadata": {},
   "outputs": [],
   "source": [
    "import pandas as pd\n",
    "import numpy as np\n",
    "\n",
    "df = pd.DataFrame(np.random.randint(10, 40, 60).reshape(-1, 4))\n",
    "\n",
    "row_sums = df.sum(axis=1)\n",
    "\n",
    "filtered_df = df[row_sums > 100]\n",
    "\n",
    "last_two_rows = filtered_df.tail(2)\n",
    "\n",
    "print(last_two_rows)"
   ]
  },
  {
   "cell_type": "markdown",
   "metadata": {},
   "source": [
    "Задача 53"
   ]
  },
  {
   "cell_type": "code",
   "execution_count": null,
   "metadata": {},
   "outputs": [],
   "source": [
    "import pandas as pd\n",
    "import numpy as np\n",
    "\n",
    "ser = pd.Series(np.logspace(-2, 2, 30))\n",
    "\n",
    "percentile_5 = ser.quantile(0.05)\n",
    "percentile_95 = ser.quantile(0.95)\n",
    "\n",
    "ser[ser < percentile_5] = percentile_5\n",
    "\n",
    "ser[ser > percentile_95] = percentile_95\n",
    "\n",
    "print(ser)"
   ]
  },
  {
   "cell_type": "markdown",
   "metadata": {},
   "source": [
    "Задача 54"
   ]
  },
  {
   "cell_type": "code",
   "execution_count": null,
   "metadata": {},
   "outputs": [],
   "source": [
    "import pandas as pd\n",
    "import numpy as np\n",
    "\n",
    "df = pd.DataFrame(np.random.randint(-20, 50, 100).reshape(10, -1))\n",
    "\n",
    "positive_values = df[df >= 0].stack().reset_index(drop=True)\n",
    "\n",
    "n = int(np.sqrt(len(positive_values)))\n",
    "\n",
    "positive_values = positive_values.nlargest(n**2)\n",
    "\n",
    "square_df = positive_values.values.reshape(n, n)\n",
    "\n",
    "result_df = pd.DataFrame(square_df)\n",
    "\n",
    "print(result_df)"
   ]
  },
  {
   "cell_type": "markdown",
   "metadata": {},
   "source": [
    "Задача 55"
   ]
  },
  {
   "cell_type": "code",
   "execution_count": null,
   "metadata": {},
   "outputs": [],
   "source": [
    "import pandas as pd\n",
    "import numpy as np\n",
    "\n",
    "df = pd.DataFrame(np.arange(25).reshape(5, -1))\n",
    "\n",
    "df.iloc[[1, 2]] = df.iloc[[2, 1]].values\n",
    "\n",
    "print(df)"
   ]
  },
  {
   "cell_type": "markdown",
   "metadata": {},
   "source": [
    "Задача 56"
   ]
  },
  {
   "cell_type": "code",
   "execution_count": null,
   "metadata": {},
   "outputs": [],
   "source": [
    "import pandas as pd\n",
    "import numpy as np\n",
    "\n",
    "df = pd.DataFrame(np.arange(25).reshape(5, -1))\n",
    "\n",
    "df = df.iloc[::-1]\n",
    "\n",
    "print(df)"
   ]
  },
  {
   "cell_type": "markdown",
   "metadata": {},
   "source": [
    "Задача 57"
   ]
  },
  {
   "cell_type": "code",
   "execution_count": null,
   "metadata": {},
   "outputs": [],
   "source": [
    "import pandas as pd\n",
    "import numpy as np\n",
    "\n",
    "df = pd.DataFrame(np.arange(25).reshape(5, -1), columns=list('abcde'))\n",
    "\n",
    "binary_columns = pd.get_dummies(df['a'])\n",
    "\n",
    "df = pd.concat([binary_columns, df[['b', 'c', 'd', 'e']]], axis=1)\n",
    "\n",
    "print(df)"
   ]
  },
  {
   "cell_type": "markdown",
   "metadata": {},
   "source": [
    "Задача 58"
   ]
  },
  {
   "cell_type": "code",
   "execution_count": null,
   "metadata": {},
   "outputs": [],
   "source": [
    "import pandas as pd\n",
    "import numpy as np\n",
    "\n",
    "df = pd.DataFrame(np.random.randint(1, 100, 40).reshape(10, -1))\n",
    "\n",
    "row_max = df.max(axis=1)\n",
    "\n",
    "max_counts = (df.eq(row_max, axis=0)).sum()\n",
    "\n",
    "column_with_most_max = max_counts.idxmax()\n",
    "\n",
    "print(f\"Столбец с наибольшим количеством строчных максимумов: {column_with_most_max}\")"
   ]
  },
  {
   "cell_type": "markdown",
   "metadata": {},
   "source": [
    "Задача 59"
   ]
  },
  {
   "cell_type": "code",
   "execution_count": null,
   "metadata": {},
   "outputs": [],
   "source": [
    "import pandas as pd\n",
    "import numpy as np\n",
    "from scipy.spatial.distance import cdist\n",
    "\n",
    "# Создание DataFrame с примером данных\n",
    "data = {\n",
    "    'p': [57, 68, 74, 80, 93, 69, 39, 63, 18, 79],\n",
    "    'q': [77, 5, 40, 17, 48, 55, 23, 28, 4, 12],\n",
    "    'r': [13, 92, 18, 39, 85, 8, 88, 25, 73, 45],\n",
    "    's': [62, 24, 37, 60, 33, 11, 53, 61, 7, 34]\n",
    "}\n",
    "df = pd.DataFrame(data, index=['a', 'b', 'c', 'd', 'e', 'f', 'g', 'h', 'i', 'j'])\n",
    "\n",
    "distances = cdist(df, df, metric='euclidean')\n",
    "\n",
    "np.fill_diagonal(distances, np.inf)\n",
    "\n",
    "nearest_rows = np.argmin(distances, axis=1)\n",
    "\n",
    "df['nearest_row'] = df.index[nearest_rows].values\n",
    "\n",
    "df['dist'] = np.min(distances, axis=1)\n",
    "\n",
    "print(df)"
   ]
  },
  {
   "cell_type": "markdown",
   "metadata": {},
   "source": [
    "Задача 60"
   ]
  },
  {
   "cell_type": "code",
   "execution_count": 13,
   "metadata": {},
   "outputs": [
    {
     "name": "stdout",
     "output_type": "stream",
     "text": [
      "p   1.0000\n",
      "a   1.0000\n",
      "r   1.0000\n",
      "s   1.0000\n",
      "t   1.0000\n",
      "u   1.0000\n",
      "v   1.0000\n",
      "w   1.0000\n",
      "x   1.0000\n",
      "y   1.0000\n",
      "dtype: float64\n"
     ]
    }
   ],
   "source": [
    "import pandas as pd\n",
    "import numpy as np\n",
    "\n",
    "df = pd.DataFrame(np.random.randint(1, 100, 80).reshape(8, -1), columns=list('parstuvwxy'), index=list('abcdefgh'))\n",
    "\n",
    "correlation_matrix = df.corr()\n",
    "\n",
    "max_abs_correlation = correlation_matrix.abs().max()\n",
    "\n",
    "print(max_abs_correlation)"
   ]
  },
  {
   "cell_type": "markdown",
   "metadata": {},
   "source": [
    "Задача 61"
   ]
  },
  {
   "cell_type": "code",
   "execution_count": 14,
   "metadata": {},
   "outputs": [
    {
     "name": "stdout",
     "output_type": "stream",
     "text": [
      "   min  max\n",
      "0    1   86\n",
      "1    5   99\n",
      "2   14   86\n",
      "3    1   93\n",
      "4   26   99\n",
      "5   10   99\n",
      "6    7   93\n",
      "7    6   99\n"
     ]
    }
   ],
   "source": [
    "import pandas as pd\n",
    "import numpy as np\n",
    "\n",
    "df = pd.DataFrame(np.random.randint(1, 100, 80).reshape(8, -1))\n",
    "\n",
    "min_values = df.min(axis=1)\n",
    "max_values = df.max(axis=1)\n",
    "\n",
    "result_df = pd.DataFrame({'min': min_values, 'max': max_values})\n",
    "\n",
    "print(result_df)"
   ]
  },
  {
   "cell_type": "markdown",
   "metadata": {},
   "source": [
    "Задача 62"
   ]
  },
  {
   "cell_type": "code",
   "execution_count": 15,
   "metadata": {},
   "outputs": [
    {
     "name": "stdout",
     "output_type": "stream",
     "text": [
      "    0   1   2   3   4  ...   6   7   8   9  penultimate\n",
      "0  46  88  80   1  46  ...   8  88   1  56           88\n",
      "1  51  44  43  89  96  ...  37  27  82   5           89\n",
      "2  34  43  65  93  75  ...  65  41  99  53           93\n",
      "3  77  64  30   6  79  ...  85  47   3  73           79\n",
      "4  32  27  70  90  87  ...  31  57  86  64           90\n",
      "5  64   6  71  64  55  ...   4  93  43  98           93\n",
      "6  10  33   6  83  44  ...  53  18  89  73           83\n",
      "7   9  42  69  75  97  ...  65  99   8  45           97\n",
      "\n",
      "[8 rows x 11 columns]\n"
     ]
    }
   ],
   "source": [
    "import pandas as pd\n",
    "import numpy as np\n",
    "\n",
    "df = pd.DataFrame(np.random.randint(1, 100, 80).reshape(8, -1))\n",
    "\n",
    "penultimate_values = df.apply(lambda row: np.partition(row, -2)[-2], axis=1)\n",
    "\n",
    "df['penultimate'] = penultimate_values\n",
    "\n",
    "print(df)"
   ]
  },
  {
   "cell_type": "markdown",
   "metadata": {},
   "source": [
    "Задача 63"
   ]
  },
  {
   "cell_type": "code",
   "execution_count": 16,
   "metadata": {},
   "outputs": [
    {
     "name": "stdout",
     "output_type": "stream",
     "text": [
      "Нормализованный DataFrame:\n",
      "        0       1       2       3       4       5       6       7       8  \\\n",
      "0 -0.2341 -0.7751  0.7458 -1.7520  0.8151 -0.7938  0.1375 -0.5383  0.9027   \n",
      "1  1.4892 -1.1014  1.5885 -0.7684  0.7082  0.7579 -1.1723 -0.6378  1.3449   \n",
      "2  1.2644  0.7479 -0.9396  0.6718 -1.4654 -1.1386 -0.4388 -0.6876  1.0870   \n",
      "3 -0.7586 -1.1739 -0.8048  0.9880  0.1737 -0.4202  1.8666  1.6771 -0.0184   \n",
      "4 -0.9085  0.0227  0.1053  1.0582 -1.0022  1.5337 -0.8580 -0.4885 -0.5343   \n",
      "5 -1.1333  1.5093  0.4424  0.6367  0.3519  0.0682 -0.4912 -0.1151 -0.4606   \n",
      "6  0.5900 -0.1949  0.3076 -0.5576 -0.8953 -0.9949 -0.0196 -0.7125 -1.1975   \n",
      "7 -0.3091  0.9654 -1.4452 -0.2766  1.3140  0.9878  0.9759  1.5028 -1.1238   \n",
      "\n",
      "        9  \n",
      "0  0.6186  \n",
      "1 -1.7305  \n",
      "2  0.0235  \n",
      "3 -1.2607  \n",
      "4  0.8378  \n",
      "5  1.0571  \n",
      "6 -0.0078  \n",
      "7  0.4620  \n",
      "\n",
      "Ранжированный DataFrame:\n",
      "       0      1      2      3      4      5      6      7      8      9\n",
      "0 0.3429 0.1486 0.7222 0.0000 0.8205 0.1290 0.4310 0.0729 0.8261 0.8427\n",
      "1 1.0000 0.0270 1.0000 0.3500 0.7821 0.7097 0.0000 0.0312 1.0000 0.0000\n",
      "2 0.9143 0.7162 0.1667 0.8625 0.0000 0.0000 0.2414 0.0104 0.8986 0.6292\n",
      "3 0.1429 0.0000 0.2111 0.9750 0.5897 0.2688 1.0000 1.0000 0.4638 0.1685\n",
      "4 0.0857 0.4459 0.5111 1.0000 0.1667 1.0000 0.1034 0.0938 0.2609 0.9213\n",
      "5 0.0000 1.0000 0.6222 0.8500 0.6538 0.4516 0.2241 0.2500 0.2899 1.0000\n",
      "6 0.6571 0.3649 0.5778 0.4250 0.2051 0.0538 0.3793 0.0000 0.0000 0.6180\n",
      "7 0.3143 0.7973 0.0000 0.5250 1.0000 0.7957 0.7069 0.9271 0.0290 0.7865\n"
     ]
    }
   ],
   "source": [
    "import pandas as pd\n",
    "import numpy as np\n",
    "\n",
    "df = pd.DataFrame(np.random.randint(1, 100, 80).reshape(8, -1))\n",
    "\n",
    "df_normalized = (df - df.mean()) / df.std()\n",
    "                 \n",
    "df_ranked = (df - df.min()) / (df.max() - df.min())\n",
    "\n",
    "print(\"Нормализованный DataFrame:\")\n",
    "print(df_normalized)\n",
    "\n",
    "print(\"\\nРанжированный DataFrame:\")\n",
    "print(df_ranked)"
   ]
  },
  {
   "cell_type": "markdown",
   "metadata": {},
   "source": [
    "Задача 64"
   ]
  },
  {
   "cell_type": "code",
   "execution_count": 17,
   "metadata": {},
   "outputs": [
    {
     "name": "stdout",
     "output_type": "stream",
     "text": [
      "   Correlation\n",
      "0       0.2428\n",
      "1      -0.3760\n",
      "2       0.3712\n",
      "3       0.1471\n",
      "4      -0.0098\n",
      "5      -0.2140\n",
      "6      -0.1388\n"
     ]
    }
   ],
   "source": [
    "import pandas as pd\n",
    "import numpy as np\n",
    "\n",
    "df = pd.DataFrame(np.random.randint(1, 100, 80).reshape(8, -1))\n",
    "\n",
    "correlations = [df.iloc[i].corr(df.iloc[i + 1]) for i in range(len(df) - 1)]\n",
    "\n",
    "result_df = pd.DataFrame(correlations, columns=['Correlation'])\n",
    "\n",
    "print(result_df)"
   ]
  },
  {
   "cell_type": "markdown",
   "metadata": {},
   "source": [
    "Задача 65"
   ]
  },
  {
   "cell_type": "code",
   "execution_count": 18,
   "metadata": {},
   "outputs": [
    {
     "name": "stdout",
     "output_type": "stream",
     "text": [
      "   0  1  2  3  4  5  6  7  8  9\n",
      "0  0  0  0  0  0  0  0  0  0  0\n",
      "1  0  0  0  0  0  0  0  0  0  0\n",
      "2  0  0  0  0  0  0  0  0  0  0\n",
      "3  0  0  0  0  0  0  0  0  0  0\n",
      "4  0  0  0  0  0  0  0  0  0  0\n",
      "5  0  0  0  0  0  0  0  0  0  0\n",
      "6  0  0  0  0  0  0  0  0  0  0\n",
      "7  0  0  0  0  0  0  0  0  0  0\n",
      "8  0  0  0  0  0  0  0  0  0  0\n",
      "9  0  0  0  0  0  0  0  0  0  0\n"
     ]
    }
   ],
   "source": [
    "import pandas as pd\n",
    "import numpy as np\n",
    "\n",
    "df = pd.DataFrame(np.random.randint(1, 100, 100).reshape(10, -1))\n",
    "\n",
    "df.values[[np.arange(df.shape[0])] * 2] = 0 \n",
    "df.values[[np.arange(df.shape[0])[::-1]] * 2] = 0 \n",
    "\n",
    "print(df)"
   ]
  },
  {
   "cell_type": "markdown",
   "metadata": {},
   "source": [
    "Задача 66"
   ]
  },
  {
   "cell_type": "code",
   "execution_count": 19,
   "metadata": {},
   "outputs": [
    {
     "name": "stdout",
     "output_type": "stream",
     "text": [
      "    col1   col2  col3\n",
      "0  apple 0.6423    13\n",
      "1  apple 0.7853     1\n",
      "2  apple 0.6651    13\n"
     ]
    }
   ],
   "source": [
    "import pandas as pd\n",
    "import numpy as np\n",
    "\n",
    "df = pd.DataFrame({\n",
    "    'col1': ['apple', 'banana', 'orange'] * 3,\n",
    "    'col2': np.random.rand(9),\n",
    "    'col3': np.random.randint(0, 15, 9)\n",
    "})\n",
    "\n",
    "df_grouped = df.groupby('col1')\n",
    "\n",
    "apple_group = df_grouped.get_group('apple').reset_index(drop=True)\n",
    "\n",
    "print(apple_group)"
   ]
  },
  {
   "cell_type": "markdown",
   "metadata": {},
   "source": [
    "Задача 67"
   ]
  },
  {
   "cell_type": "code",
   "execution_count": null,
   "metadata": {},
   "outputs": [],
   "source": [
    "import pandas as pd\n",
    "import numpy as np\n",
    "\n",
    "df = pd.DataFrame({\n",
    "    'fruit': ['apple', 'banana', 'orange'] * 3,\n",
    "    'rating': np.random.rand(9),\n",
    "    'price': np.random.randint(0, 15, 9)\n",
    "})\n",
    "\n",
    "banana_df = df[df['fruit'] == 'banana']\n",
    "\n",
    "sorted_ratings = banana_df['rating'].sort_values(ascending=False)\n",
    "\n",
    "second_largest_rating = sorted_ratings.iloc[1]\n",
    "\n",
    "print(f\"Второе по величине значение rating для banana: {second_largest_rating}\")"
   ]
  },
  {
   "cell_type": "markdown",
   "metadata": {},
   "source": [
    "Задача 68"
   ]
  },
  {
   "cell_type": "code",
   "execution_count": null,
   "metadata": {},
   "outputs": [],
   "source": [
    "import pandas as pd\n",
    "import numpy as np\n",
    "\n",
    "df = pd.DataFrame({\n",
    "    'fruit': ['apple', 'banana', 'orange'] * 3,\n",
    "    'rating': np.random.rand(9),\n",
    "    'price': np.random.randint(0, 15, 9)\n",
    "})\n",
    "\n",
    "mean_price_df = df.groupby('fruit', as_index=False)['price'].mean()\n",
    "\n",
    "mean_price_df = mean_price_df.rename(columns={'price': 'mean_price'})\n",
    "\n",
    "print(mean_price_df)"
   ]
  },
  {
   "cell_type": "markdown",
   "metadata": {},
   "source": [
    "Задача 69"
   ]
  },
  {
   "cell_type": "code",
   "execution_count": null,
   "metadata": {},
   "outputs": [],
   "source": [
    "import pandas as pd\n",
    "import numpy as np\n",
    "\n",
    "df1 = pd.DataFrame({\n",
    "    'fruit': ['apple', 'banana', 'orange'] * 3,\n",
    "    'weight': ['high', 'medium', 'low'] * 3,\n",
    "    'price': np.random.randint(0, 15, 9)\n",
    "})\n",
    "\n",
    "df2 = pd.DataFrame({\n",
    "    'pazham': ['apple', 'orange', 'pine'] * 2,\n",
    "    'kilo': ['high', 'low'] * 3,\n",
    "    'price': np.random.randint(0, 15, 6)\n",
    "})\n",
    "\n",
    "merged_df = pd.merge(df1, df2, left_on=['fruit', 'weight'], right_on=['pazham', 'kilo'])\n",
    "\n",
    "print(merged_df)"
   ]
  },
  {
   "cell_type": "markdown",
   "metadata": {},
   "source": [
    "Задача 70"
   ]
  },
  {
   "cell_type": "code",
   "execution_count": 23,
   "metadata": {},
   "outputs": [
    {
     "name": "stdout",
     "output_type": "stream",
     "text": [
      "   a   b   lag1   lead1\n",
      "0  1  10    NaN 11.0000\n",
      "1  2  11 1.0000 12.0000\n",
      "2  3  12 2.0000 13.0000\n",
      "3  4  13 3.0000 14.0000\n",
      "4  5  14 4.0000     NaN\n"
     ]
    }
   ],
   "source": [
    "import pandas as pd\n",
    "import numpy as np\n",
    "\n",
    "df = pd.DataFrame({\n",
    "    'a': np.arange(1, 6),\n",
    "    'b': np.arange(10, 15)\n",
    "})\n",
    "\n",
    "df['lag1'] = df['a'].shift(1)\n",
    "\n",
    "df['lead1'] = df['b'].shift(-1)\n",
    "\n",
    "print(df)"
   ]
  },
  {
   "cell_type": "markdown",
   "metadata": {},
   "source": [
    "Задача 71"
   ]
  },
  {
   "cell_type": "code",
   "execution_count": 24,
   "metadata": {},
   "outputs": [
    {
     "name": "stdout",
     "output_type": "stream",
     "text": [
      "2    6\n",
      "8    3\n",
      "5    3\n",
      "7    3\n",
      "1    2\n",
      "4    2\n",
      "3    1\n",
      "Name: count, dtype: int64\n"
     ]
    }
   ],
   "source": [
    "import pandas as pd\n",
    "import numpy as np\n",
    "\n",
    "df = pd.DataFrame(np.random.randint(1, 10, 20).reshape(-1, 4), columns=list('abcd'))\n",
    "\n",
    "frequency = df.stack().value_counts()\n",
    "\n",
    "print(frequency)"
   ]
  },
  {
   "cell_type": "markdown",
   "metadata": {},
   "source": [
    "Задача 72"
   ]
  },
  {
   "cell_type": "code",
   "execution_count": null,
   "metadata": {},
   "outputs": [],
   "source": [
    "import pandas as pd\n",
    "\n",
    "df = pd.DataFrame([\n",
    "    \"STD, City   State\",\n",
    "    \"33, Kolkata   West Bengal\",\n",
    "    \"44, Chennai   Tamil Nadu\",\n",
    "    \"40, Hyderabad   Telengana\",\n",
    "    \"80, Bangalore   Karnataka\"\n",
    "], columns=['row'])\n",
    "\n",
    "df = df.iloc[1:]\n",
    "\n",
    "split_data = df['row'].str.split(', ', expand=True)\n",
    "\n",
    "if split_data.shape[1] < 3:\n",
    "    split_data[2] = None\n",
    "\n",
    "new_df = pd.DataFrame({\n",
    "    'STD': split_data[0],\n",
    "    'City': split_data[1],\n",
    "    'State': split_data[2]\n",
    "})\n",
    "\n",
    "print(new_df)"
   ]
  }
 ],
 "metadata": {
  "kernelspec": {
   "display_name": "Python 3",
   "language": "python",
   "name": "python3"
  },
  "language_info": {
   "codemirror_mode": {
    "name": "ipython",
    "version": 3
   },
   "file_extension": ".py",
   "mimetype": "text/x-python",
   "name": "python",
   "nbconvert_exporter": "python",
   "pygments_lexer": "ipython3",
   "version": "3.13.0"
  }
 },
 "nbformat": 4,
 "nbformat_minor": 2
}
